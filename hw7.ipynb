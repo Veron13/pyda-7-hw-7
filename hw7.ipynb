{
 "cells": [
  {
   "cell_type": "markdown",
   "metadata": {},
   "source": [
    "# Домашнее задание к лекции \"Исключения и обработка ошибок\""
   ]
  },
  {
   "cell_type": "markdown",
   "metadata": {},
   "source": [
    " "
   ]
  },
  {
   "cell_type": "markdown",
   "metadata": {},
   "source": [
    "## Задание № 1"
   ]
  },
  {
   "cell_type": "markdown",
   "metadata": {},
   "source": [
    "Напишите функцию date_range, которая возвращает список дней между датами start_date и end_date. Даты должны вводиться в формате YYYY-MM-DD."
   ]
  },
  {
   "cell_type": "code",
   "execution_count": 50,
   "metadata": {},
   "outputs": [],
   "source": [
    "def date_range():\n",
    "    from datetime import datetime\n",
    "    from datetime import timedelta\n",
    "    check = 0\n",
    "    while check == 0:\n",
    "        try:\n",
    "            start_date = input('Введите начальную дату в формате: гггг-мм-дд ')\n",
    "            start_date_datetime = datetime.strptime(start_date, '%Y-%m-%d')\n",
    "            check += 1\n",
    "        except ValueError:\n",
    "            print('Неверный формат даты')\n",
    "            check = 0\n",
    "\n",
    "    start = start_date_datetime       \n",
    "    check = 0\n",
    "    while check == 0:        \n",
    "        try:\n",
    "            end_date = input('Введите конечную дату в формате: гггг-мм-дд ')\n",
    "            end_date_datetime= datetime.strptime(end_date, '%Y-%m-%d')\n",
    "            check += 1\n",
    "        except ValueError:\n",
    "            print('Неверный формат даты')\n",
    "            check = 0\n",
    "\n",
    "    gap = 0\n",
    "    if start_date_datetime > end_date_datetime:\n",
    "        print([])\n",
    "    else:\n",
    "        while start_date_datetime < end_date_datetime:\n",
    "            start_date_datetime += timedelta(days=1)\n",
    "            gap += 1\n",
    "        our_list =[gap]\n",
    "        print('Период между датами (в днях): '+str(our_list))"
   ]
  },
  {
   "cell_type": "code",
   "execution_count": 53,
   "metadata": {},
   "outputs": [
    {
     "name": "stdout",
     "output_type": "stream",
     "text": [
      "Введите начальную дату в формате: гггг-мм-дд 2018-01-01\n",
      "Введите конечную дату в формате: гггг-мм-дд 2019-01-01\n",
      "Период между датами (в днях): [365]\n"
     ]
    }
   ],
   "source": [
    "date_range()"
   ]
  },
  {
   "cell_type": "markdown",
   "metadata": {},
   "source": [
    "## Задание № 2"
   ]
  },
  {
   "cell_type": "markdown",
   "metadata": {},
   "source": [
    "Дополните функцию из первого задания проверкой на корректность дат. В случае неверного формата или если start_date > end_date должен возвращаться пустой список."
   ]
  },
  {
   "cell_type": "code",
   "execution_count": 47,
   "metadata": {},
   "outputs": [],
   "source": [
    "def date_range2():\n",
    "    date_range()"
   ]
  },
  {
   "cell_type": "code",
   "execution_count": 49,
   "metadata": {},
   "outputs": [
    {
     "name": "stdout",
     "output_type": "stream",
     "text": [
      "Введите начальную дату в формате: гггг-мм-дд 2019-01-01\n",
      "Введите конечную дату в формате: гггг-мм-дд 2018-01-01\n",
      "[]\n"
     ]
    }
   ],
   "source": [
    "date_range2()"
   ]
  },
  {
   "cell_type": "markdown",
   "metadata": {},
   "source": [
    "## Задание № 3"
   ]
  },
  {
   "cell_type": "markdown",
   "metadata": {},
   "source": [
    "Дан поток дат в формате YYYY-MM-DD, в которых встречаются некорректные значения:\n",
    "stream = [‘2018-04-02’, ‘2018-02-29’, ‘2018-19-02’]\n",
    "\n",
    "Напишите функцию, которая проверяет эти даты на корректность. Т. е. для каждой даты возвращает True (дата корректна) или False (некорректная дата)."
   ]
  },
  {
   "cell_type": "code",
   "execution_count": 56,
   "metadata": {},
   "outputs": [],
   "source": [
    "def the_correct_date():  \n",
    "    from datetime import datetime\n",
    "    from datetime import timedelta\n",
    "    stream = ['2018-04-02', '2018-02-29', '2018-19-02']\n",
    "    \n",
    "    for check in stream:\n",
    "        try: \n",
    "            correct_date = datetime.strptime(check, '%Y-%m-%d')\n",
    "            print('Дата корректна')\n",
    "        except ValueError:\n",
    "            print('Дата некорректна')"
   ]
  },
  {
   "cell_type": "code",
   "execution_count": 57,
   "metadata": {},
   "outputs": [
    {
     "name": "stdout",
     "output_type": "stream",
     "text": [
      "Дата корректна\n",
      "Дата некорректна\n",
      "Дата некорректна\n"
     ]
    }
   ],
   "source": [
    "the_correct_date()"
   ]
  },
  {
   "cell_type": "markdown",
   "metadata": {},
   "source": [
    "## Задание № 4"
   ]
  },
  {
   "cell_type": "code",
   "execution_count": 101,
   "metadata": {},
   "outputs": [],
   "source": [
    "DEFAULT_USER_COUNT = 3\n",
    "\n",
    "def delete_and_return_last_user(default_list=['A100', 'A101', 'A102']):\n",
    "\n",
    "    element_to_delete = default_list[-1]\n",
    "    default_list.remove(element_to_delete)\n",
    "\n",
    "    print(default_list[DEFAULT_USER_COUNT-2])"
   ]
  },
  {
   "cell_type": "code",
   "execution_count": 102,
   "metadata": {},
   "outputs": [
    {
     "name": "stdout",
     "output_type": "stream",
     "text": [
      "A101\n"
     ]
    },
    {
     "ename": "IndexError",
     "evalue": "list index out of range",
     "output_type": "error",
     "traceback": [
      "\u001b[1;31m---------------------------------------------------------------------------\u001b[0m",
      "\u001b[1;31mIndexError\u001b[0m                                Traceback (most recent call last)",
      "\u001b[1;32m<ipython-input-102-f5b613526d70>\u001b[0m in \u001b[0;36m<module>\u001b[1;34m\u001b[0m\n\u001b[0;32m      1\u001b[0m \u001b[0mdelete_and_return_last_user\u001b[0m\u001b[1;33m(\u001b[0m\u001b[1;33m)\u001b[0m\u001b[1;33m\u001b[0m\u001b[1;33m\u001b[0m\u001b[0m\n\u001b[1;32m----> 2\u001b[1;33m \u001b[0mdelete_and_return_last_user\u001b[0m\u001b[1;33m(\u001b[0m\u001b[1;33m)\u001b[0m\u001b[1;33m\u001b[0m\u001b[1;33m\u001b[0m\u001b[0m\n\u001b[0m",
      "\u001b[1;32m<ipython-input-101-8fb251cc9ce5>\u001b[0m in \u001b[0;36mdelete_and_return_last_user\u001b[1;34m(default_list)\u001b[0m\n\u001b[0;32m      6\u001b[0m     \u001b[0mdefault_list\u001b[0m\u001b[1;33m.\u001b[0m\u001b[0mremove\u001b[0m\u001b[1;33m(\u001b[0m\u001b[0melement_to_delete\u001b[0m\u001b[1;33m)\u001b[0m\u001b[1;33m\u001b[0m\u001b[1;33m\u001b[0m\u001b[0m\n\u001b[0;32m      7\u001b[0m \u001b[1;33m\u001b[0m\u001b[0m\n\u001b[1;32m----> 8\u001b[1;33m     \u001b[0mprint\u001b[0m\u001b[1;33m(\u001b[0m\u001b[0mdefault_list\u001b[0m\u001b[1;33m[\u001b[0m\u001b[0mDEFAULT_USER_COUNT\u001b[0m\u001b[1;33m-\u001b[0m\u001b[1;36m2\u001b[0m\u001b[1;33m]\u001b[0m\u001b[1;33m)\u001b[0m\u001b[1;33m\u001b[0m\u001b[1;33m\u001b[0m\u001b[0m\n\u001b[0m",
      "\u001b[1;31mIndexError\u001b[0m: list index out of range"
     ]
    }
   ],
   "source": [
    "delete_and_return_last_user()\n",
    "delete_and_return_last_user()"
   ]
  },
  {
   "cell_type": "markdown",
   "metadata": {},
   "source": [
    "### Задание:\n",
    "1. Что значит ошибка list index out of range?\n",
    "2. Почему при первом запуске функция работает корректно, а при втором - нет?"
   ]
  },
  {
   "cell_type": "markdown",
   "metadata": {},
   "source": [
    "1. Насколько я понял при выполнении предыдущих ДЗ, эта ошибка означает, что мы просим что-то сделать с данными на индексе, которого не существует в списке. Как правило это связано с тем, что список закончился, а мы всё ущё ссылаемся на следующий индекс.\n",
    "2. При первом запуске всё работает, потому что индекс с номером DEFAULT_USER_COUNT-2 в списке default_list существует. А во второй раз уже нет, так как после повторного удаления индекса из списка остаётся лишь первый индекс с номером 0, а мы всё ещё просим вывести индекс с номером DEFAULT_USER_COUNT-2 = 1."
   ]
  }
 ],
 "metadata": {
  "kernelspec": {
   "display_name": "Python 3",
   "language": "python",
   "name": "python3"
  },
  "language_info": {
   "codemirror_mode": {
    "name": "ipython",
    "version": 3
   },
   "file_extension": ".py",
   "mimetype": "text/x-python",
   "name": "python",
   "nbconvert_exporter": "python",
   "pygments_lexer": "ipython3",
   "version": "3.7.4"
  }
 },
 "nbformat": 4,
 "nbformat_minor": 2
}
